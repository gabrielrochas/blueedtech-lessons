{
  "nbformat": 4,
  "nbformat_minor": 0,
  "metadata": {
    "colab": {
      "name": "Projeto01–Detetive.ipynb",
      "provenance": [],
      "authorship_tag": "ABX9TyNTK4ShK3SAEB0F3jrXPmDb",
      "include_colab_link": true
    },
    "kernelspec": {
      "name": "python3",
      "display_name": "Python 3"
    },
    "language_info": {
      "name": "python"
    }
  },
  "cells": [
    {
      "cell_type": "markdown",
      "metadata": {
        "id": "view-in-github",
        "colab_type": "text"
      },
      "source": [
        "<a href=\"https://colab.research.google.com/github/gabrielrochas/blueedtech-lessons/blob/main/projetos/Projeto01%E2%80%93Detetive.ipynb\" target=\"_parent\"><img src=\"https://colab.research.google.com/assets/colab-badge.svg\" alt=\"Open In Colab\"/></a>"
      ]
    },
    {
      "cell_type": "markdown",
      "metadata": {
        "id": "F9kunf6-7eiD"
      },
      "source": [
        "**Projeto 01 – Detetive**\n",
        "\n",
        "Esse projeto tem a finalidade de fixar os conhecimentos de Variáveis, Print, Input \n",
        "e Condicionais, para isso crie um programa que faça 5 perguntas para uma \n",
        "pessoa sobre um crime. As perguntas são:\n",
        "\n",
        "*  \"Você telefonou para a vítima?\"\n",
        "*  \" Você esteve no local do crime?\"\n",
        "*  \" Você mora perto da vítima?\"\n",
        "*  \" Você devia para a vítima?\"\n",
        "*  \" Você já trabalhou com a vítima?\" List item\n",
        "\n",
        "\n",
        "O programa deve, no final, emitir uma classificação sobre a participação da \n",
        "pessoa no crime.\n",
        "\n",
        "Se a pessoa responder positivamente a:\n",
        "\n",
        "* 2 questões ela deve ser classificada como \"Suspeita\",\n",
        "* Entre 3 e 4 como \"Cúmplice\"\n",
        "* 5 como \"Assassino\". \n",
        "* Caso contrário, ele será classificado como \"Inocente\"."
      ]
    },
    {
      "cell_type": "code",
      "metadata": {
        "colab": {
          "base_uri": "https://localhost:8080/"
        },
        "id": "_iUv3h1q7dnz",
        "outputId": "f87f730a-9cfe-4946-f455-6a5852e457e5"
      },
      "source": [
        "# ART is a Python lib for text converting to ASCII art fancy. ;-) \n",
        "# https://pypi.org/project/art/\n",
        "\n",
        "# uncomment (removing the #) next line to install Art \n",
        "#!pip install art \n",
        "from art import *;\n",
        "\n",
        "# COLORAMA makes ANSI escape character sequences (for producing colored terminal text and cursor positioning) work under MS Windows. \n",
        "# https://pypi.org/project/colorama/\n",
        "# uncomment (removing the #) next line to install Colorama \n",
        "#!pip install colorama \n",
        "from colorama import Fore;\n",
        "\n",
        "from time import sleep;\n",
        "\n",
        "# This simple program must ask 5 questions to the player and determinate acording answers if the player is SUSPECT, ACCOMPLICE, GUILTY, INOCCENT\n",
        "#\n",
        "# The program have to print at the end a classification:\n",
        "# ➡️ 2 YES - SUSPECT \n",
        "# ➡️ or 4 YES - ACCOMPLICE\n",
        "# ➡️ 5 YES - GUILTY\n",
        "# ➡️ 0 YES - INOCCENT\n",
        "\n",
        "blue = Fore.BLUE; # Print in BLUE color\n",
        "cyan = Fore.CYAN; # Print in CYAN color\n",
        "green = Fore.GREEN; # Print in GREEN color\n",
        "yellow = Fore.YELLOW; # Print YELLOW color\n",
        "red = Fore.RED; # Print in RED color\n",
        "bBold = '\\u001b[1m'; # Start BOLD\n",
        "eBold = '\\u001b[0m'; # End BOLD\n",
        "resColor = '\\033[39m'; # Reset to default color\n",
        "\n",
        "draw = '#';\n",
        "\n",
        "tprint('DETETIVE', 'rnd-large'); # ASCII print art\n",
        "detective = \"\\u0332\".join(\"Sherlock Holmes\"); # You can change the name of the detective\n",
        "\n",
        "print(f'''{blue}{draw * 65}\n",
        "Olá, eu sou o detetive {detective}.\n",
        "Vou fazer cinco perguntas e quero respostas simples: {bBold}SIM ou NÃO{eBold}{blue}.\n",
        "Vamos começar!\n",
        "{draw * 65}\n",
        "''')\n",
        "\n",
        "# print(resColor)\n",
        "\n",
        "# sleep(5)\n",
        "\n",
        "q1 = str(input(\"Você telefonou para a vítima? SIM ou NÃO: \" )).lower()[0]; # Did you call the victim? YES or NO:\n",
        "sleep(2);\n",
        "q2 = str(input(\"Você esteve no local do crime? SIM ou NÃO: \" )).lower()[0]; # Were you at the crime scene? YES or NO:\n",
        "sleep(2);\n",
        "q3 = str(input(\"Você mora perto da vítima?: SIM ou NÃO: \" )).lower()[0]; # Do you live close the victim? YES or NO:\n",
        "sleep(2);\n",
        "q4 = str(input(\"Você devia para a vítima?: SIM ou NÃO: \" )).lower()[0]; # Did you owe the victim money? YES or NO:\n",
        "sleep(2);\n",
        "q5 = str(input(\"Você já trabalhou com a vítima?: SIM ou NÃO: \" )).lower()[0]; # Did work with the victim? YES or NO:\n",
        "\n",
        "# Count YES answers\n",
        "count = 0;\n",
        "if q1 == 's':\n",
        "  count += 1;\n",
        "if q2 == 's':\n",
        "  count += 1;\n",
        "if q3 == 's':\n",
        "  count += 1;\n",
        "if q4 == 's':\n",
        "  count += 1;\n",
        "if q5 == 's':\n",
        "  count += 1;\n",
        "\n",
        "print('\\nEstamos processando as suas respostas...\\n');\n",
        "sleep(3);\n",
        "\n",
        "if count > 0 and count <= 2:\n",
        "  print(f'{cyan}Você é considerado como {bBold}SUSPEITO{eBold}{cyan} do crime');\n",
        "elif count > 2 and count <= 4:\n",
        "  print(f'{yellow}Você é considerado como {bBold}CÚMPLICE{eBold}{yellow} do crime');\n",
        "elif count == 5:\n",
        "  print(f'{red}Você é considerado como {bBold}CULPADO{eBold}{red} do crime');\n",
        "else:\n",
        "  print(f'{green}Você é {bBold}INOCENTE{eBold}{green} do crime!')"
      ],
      "execution_count": 5,
      "outputs": [
        {
          "output_type": "stream",
          "text": [
            " _______   _______ .___________. _______ .___________. __  ____    ____  _______ \r\n",
            "|       \\ |   ____||           ||   ____||           ||  | \\   \\  /   / |   ____|\r\n",
            "|  .--.  ||  |__   `---|  |----`|  |__   `---|  |----`|  |  \\   \\/   /  |  |__   \r\n",
            "|  |  |  ||   __|      |  |     |   __|      |  |     |  |   \\      /   |   __|  \r\n",
            "|  '--'  ||  |____     |  |     |  |____     |  |     |  |    \\    /    |  |____ \r\n",
            "|_______/ |_______|    |__|     |_______|    |__|     |__|     \\__/     |_______|\r\n",
            "                                                                                 \r\n",
            "\n",
            "Você telefonou para a vítima? SIM ou NÃO: s\n",
            "Você esteve no local do crime? SIM ou NÃO: s\n",
            "Você mora perto da vítima?: SIM ou NÃO: n\n",
            "Você devia para a vítima?: SIM ou NÃO: n\n",
            "Você já trabalhou com a vítima?: SIM ou NÃO: n\n",
            "\n",
            "Estamos processando as suas respostas...\n",
            "\n",
            "\u001b[36mVocê é considerado como \u001b[1mSUSPEITO\u001b[0m\u001b[36m do crime\n"
          ],
          "name": "stdout"
        }
      ]
    }
  ]
}