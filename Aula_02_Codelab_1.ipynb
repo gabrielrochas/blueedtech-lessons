{
  "nbformat": 4,
  "nbformat_minor": 0,
  "metadata": {
    "colab": {
      "name": "Aula_02_Codelab_1.ipynb",
      "provenance": [],
      "collapsed_sections": [],
      "include_colab_link": true
    },
    "kernelspec": {
      "name": "python3",
      "display_name": "Python 3"
    },
    "language_info": {
      "name": "python"
    }
  },
  "cells": [
    {
      "cell_type": "markdown",
      "metadata": {
        "id": "view-in-github",
        "colab_type": "text"
      },
      "source": [
        "<a href=\"https://colab.research.google.com/github/gabrielrochas/git_test/blob/main/Aula_02_Codelab_1.ipynb\" target=\"_parent\"><img src=\"https://colab.research.google.com/assets/colab-badge.svg\" alt=\"Open In Colab\"/></a>"
      ]
    },
    {
      "cell_type": "markdown",
      "metadata": {
        "id": "n_igYcmdk6U9"
      },
      "source": [
        "# **Exercícios para treinar:**"
      ]
    },
    {
      "cell_type": "markdown",
      "metadata": {
        "id": "rRyZR6ZAlEHU"
      },
      "source": [
        "1. **Frase na tela** - Implemente um programa que escreve na tela a frase \"O primeiro programa a gente nunca esquece!\".\n",
        "\n",
        "2. **Etiqueta** - Elabore um programa que escreve seu nome completo na primeira linha, seu endereço na segunda e o CEP e telefone na terceira.\n",
        "\n",
        "3. **Letra de música** - Faça um programa que mostre na tela uma letra de música que você gosta (proibido letras do Justin Bieber).\n",
        "\n",
        "4. **Tabela de notas** - Você foi contratado ou contratada por uma escola pra fazer o sistema de boletim dos alunos. Como primeiro passo, escreva um programa que produza a seguinte saída:\n",
        "```\n",
        "ALUNO (A)  NOTA\n",
        "=========  ====\n",
        "ALINE      9.0\n",
        "MÁRIO      DEZ\n",
        "SÉRGIO     4.5\n",
        "SHIRLEY    7.0\n",
        "```\n",
        "\n",
        "5. **Menu** - Elabore um programa que mostre o seguinte menu na tela:\n",
        "```\n",
        "Cadastro de Clientes\n",
        "0 - Fim\n",
        "1 - Inclui\n",
        "2 - Altera\n",
        "3 - Exclui\n",
        "4 - Consulta\n",
        "Digite uma opção: \n",
        "```\n",
        "Ao digitar um valor para a opção, o programa exibe qual opção foi escolhida.\n",
        "```\n",
        "Você escolheu a opção '0'.\n",
        "```\n",
        "\n",
        "6. **Calculadora de Dano** - Escreva um programa que receba dois valores digitados pelo usuário:\n",
        "  - Quantidade de vida de um monstro (entre 10 e 50);\n",
        "  - Valor do ataque do jogador por turno (entre 5 e 10);\n",
        "  - Baseado nos valores digitados, exiba a quantidade de turnos que o jogador irá demorar para conseguir derrotar o monstro.\n",
        "  - ```\n",
        "    O jogador irá derrotar o monstro em 8 turnos.\n",
        "    ```"
      ]
    },
    {
      "cell_type": "markdown",
      "metadata": {
        "id": "v2OyYY2H8vi1"
      },
      "source": [
        "Frase na tela - Implemente um programa que escreve na tela a frase \"O primeiro programa a gente nunca esquece!\".\n",
        "\n",
        "\n"
      ]
    },
    {
      "cell_type": "code",
      "metadata": {
        "colab": {
          "base_uri": "https://localhost:8080/"
        },
        "id": "Q1cD22pf81yO",
        "outputId": "09edb86f-308e-4225-e902-ecb09643320a"
      },
      "source": [
        "print('O primeiro programa a gente nunca esquece!')"
      ],
      "execution_count": null,
      "outputs": [
        {
          "output_type": "stream",
          "text": [
            "O primeiro programa a gente nunca esquece!\n"
          ],
          "name": "stdout"
        }
      ]
    },
    {
      "cell_type": "markdown",
      "metadata": {
        "id": "5ornYzCP9Bby"
      },
      "source": [
        "Etiqueta - Elabore um programa que escreve seu nome completo na primeira linha, seu endereço na segunda e o CEP e telefone na terceira."
      ]
    },
    {
      "cell_type": "code",
      "metadata": {
        "colab": {
          "base_uri": "https://localhost:8080/"
        },
        "id": "PRzXmCNn9Cfs",
        "outputId": "b7a4674b-39fa-4163-ea90-0c193efa569a"
      },
      "source": [
        "name = str(input('O seu nome: '))\n",
        "address = str(input('O seu endereço: '))\n",
        "postal = str(input('O seu CEP: '))\n",
        "phone = str(input('O seu Fone: '))\n",
        "\n",
        "print(f'\\n\\nNome: {name}\\nEndereço: {address}\\nCEP: {postal} e Fone: {phone}')"
      ],
      "execution_count": null,
      "outputs": [
        {
          "output_type": "stream",
          "text": [
            "O seu nome: Gabriel\n",
            "O seu endereço: Rua de casa\n",
            "O seu CEP: 709870\n",
            "O seu Fone: 70987\n",
            "\n",
            "\n",
            "Nome: Gabriel\n",
            "Endereço: Rua de casa\n",
            "CEP: 709870 e Fone: 70987\n"
          ],
          "name": "stdout"
        }
      ]
    },
    {
      "cell_type": "markdown",
      "metadata": {
        "id": "34JHjjqG_sZm"
      },
      "source": [
        "Letra de música - Faça um programa que mostre na tela uma letra de música que você gosta (proibido letras do Justin Bieber)."
      ]
    },
    {
      "cell_type": "code",
      "metadata": {
        "colab": {
          "base_uri": "https://localhost:8080/"
        },
        "id": "8t4u8RE1_qui",
        "outputId": "ec17efec-823c-44a4-a461-d890586f1f20"
      },
      "source": [
        "print(f'Atirei o pau no gato\\nMas o gato não morreu\\nDona Chica admirou-se\\nDo berro, do berro que o gato deu\\nMiau!\\n\\nAtirei o pau no gato\\nMas o gato não morreu\\nDona Chica admirou-se\\nDo berro, do berro que o gato deu\\nMiau!')"
      ],
      "execution_count": null,
      "outputs": [
        {
          "output_type": "stream",
          "text": [
            "Atirei o pau no gato\n",
            "Mas o gato não morreu\n",
            "Dona Chica admirou-se\n",
            "Do berro, do berro que o gato deu\n",
            "Miau!\n",
            "\n",
            "Atirei o pau no gato\n",
            "Mas o gato não morreu\n",
            "Dona Chica admirou-se\n",
            "Do berro, do berro que o gato deu\n",
            "Miau!\n"
          ],
          "name": "stdout"
        }
      ]
    },
    {
      "cell_type": "markdown",
      "metadata": {
        "id": "yOeikUupD2O5"
      },
      "source": [
        "Tabela de notas - Você foi contratado ou contratada por uma escola pra fazer o sistema de boletim dos alunos. Como primeiro passo, escreva um programa que produza a seguinte saída:\n"
      ]
    },
    {
      "cell_type": "markdown",
      "metadata": {
        "id": "5HRddI3nE6ga"
      },
      "source": [
        "\n",
        "\n",
        "```\n",
        "ALUNO (A)  NOTA\n",
        "=========  ====\n",
        "ALINE      9.0\n",
        "MÁRIO      DEZ\n",
        "SÉRGIO     4.5\n",
        "SHIRLEY    7.0\n",
        "```\n",
        "\n"
      ]
    },
    {
      "cell_type": "code",
      "metadata": {
        "colab": {
          "base_uri": "https://localhost:8080/"
        },
        "id": "DXILvyBJEwYz",
        "outputId": "29b6077f-e4d0-4f9e-ce32-54c3d0a20ce0"
      },
      "source": [
        "print('''\n",
        "ALUNO (A)  NOTA\n",
        "=========  ====\n",
        "ALINE      9.0\n",
        "MÁRIO      DEZ\n",
        "SÉRGIO     4.5\n",
        "SHIRLEY    7.0\n",
        "''')"
      ],
      "execution_count": null,
      "outputs": [
        {
          "output_type": "stream",
          "text": [
            "\n",
            "ALUNO (A)  NOTA\n",
            "=========  ====\n",
            "ALINE      9.0\n",
            "MÁRIO      DEZ\n",
            "SÉRGIO     4.5\n",
            "SHIRLEY    7.0\n",
            "\n"
          ],
          "name": "stdout"
        }
      ]
    },
    {
      "cell_type": "markdown",
      "metadata": {
        "id": "cOXedrO_Vq9Z"
      },
      "source": [
        "Calculadora de Dano - Escreva um programa que receba dois valores digitados pelo usuário:\n",
        "\n",
        "Quantidade de vida de um monstro (entre 10 e 50);\n",
        "Valor do ataque do jogador por turno (entre 5 e 10);\n",
        "Baseado nos valores digitados, exiba a quantidade de turnos que o jogador irá demorar para conseguir derrotar o monstro.\n",
        "```\n",
        "O jogador irá derrotar o monstro em 8 turnos.\n",
        "```"
      ]
    },
    {
      "cell_type": "code",
      "metadata": {
        "colab": {
          "base_uri": "https://localhost:8080/"
        },
        "id": "AblEtjXHWBfI",
        "outputId": "e4ec9a9c-eb88-4a6b-cfef-cb1922ae6856"
      },
      "source": [
        "from math import ceil\n",
        "\n",
        "monsterLife = int(input(\"Vida do Monstro [entre 10 e 50]: \"))\n",
        "playerForce = int(input(\"Força do jogador [entre 5 e 10]: \"))\n",
        "\n",
        "print(f'\\n\\nO jogador irá derrotar o monstro em {ceil(monsterLife / playerForce)} turnos')\n",
        "\n"
      ],
      "execution_count": null,
      "outputs": [
        {
          "output_type": "stream",
          "text": [
            "Vida do Monstro [entre 10 e 50]: 15\n",
            "Força do jogador [entre 5 e 10]: 4\n",
            "\n",
            "\n",
            "O jogador irá derrotar o monstro em 4 turnos\n"
          ],
          "name": "stdout"
        }
      ]
    },
    {
      "cell_type": "markdown",
      "metadata": {
        "id": "HqgnPaCGqMPB"
      },
      "source": [
        "# Exercícios"
      ]
    },
    {
      "cell_type": "markdown",
      "metadata": {
        "id": "U-ltrv0jqPBq"
      },
      "source": [
        "## #01 - E os 10% do garçom?**\n",
        "\n",
        "- Defina uma variável para o valor de uma refeição que custou R$ 42,54;\n",
        "\n",
        "- Defina uma variável para o valor da taxa de serviço que é de 10%;\n",
        "\n",
        "- Defina uma variável que calcula o valor total da conta e exiba-o no console com essa formatação: R$ XXXX.XX."
      ]
    },
    {
      "cell_type": "code",
      "metadata": {
        "id": "jbcSv4NFkB1C",
        "colab": {
          "base_uri": "https://localhost:8080/"
        },
        "outputId": "2b3a358d-63f1-4f9e-ee45-9e26aacff606"
      },
      "source": [
        "meal = float(42.54) #valor da refeição\n",
        "tip = float(0.1) #gorjeta\n",
        "total = meal + (meal * tip) #total refeição + gorgeta\n",
        "\n",
        "print(f'Valor da refeição: R$ {meal:.2f}\\nValor da gorjeta: R$ {(meal * tip):.2f}\\n---\\nTotal: R$ {total:.2f}')\n"
      ],
      "execution_count": null,
      "outputs": [
        {
          "output_type": "stream",
          "text": [
            "Valor da refeição: R$ 42.54\n",
            "Valor da gorjeta: R$ 4.25\n",
            "---\n",
            "Total: R$ 46.79\n"
          ],
          "name": "stdout"
        }
      ]
    },
    {
      "cell_type": "markdown",
      "metadata": {
        "id": "JR3-KgsTqR41"
      },
      "source": [
        "## #02 - Qual o valor do troco?\n",
        "\n",
        "*   Defina uma variável para o valor de uma compra que custou R$100,98;\n",
        "\n",
        "*   Defina uma variável para o valor que o cliente pagou R$150,00;\n",
        "\n",
        "*   Defina uma variável que calcula o valor do troco e exiba-o no console com o valor final arredondado."
      ]
    },
    {
      "cell_type": "code",
      "metadata": {
        "id": "hBf3kE_pksAI",
        "colab": {
          "base_uri": "https://localhost:8080/"
        },
        "outputId": "b5c59789-5ff4-480c-8fbe-b1a0cee0f5b2"
      },
      "source": [
        "purchase = float(100.98)\n",
        "payment = float(150)\n",
        "change = payment - purchase\n",
        "\n",
        "print(f'\\n\\nTotal da compra: R$ {purchase:.2f}\\nValor pago: R$ {payment:.2f}\\n---\\nTroco: R$ {change:.2f}')"
      ],
      "execution_count": null,
      "outputs": [
        {
          "output_type": "stream",
          "text": [
            "\n",
            "\n",
            "Total da compra: R$ 100.98\n",
            "Valor pago: R$ 150.00\n",
            "---\n",
            "Troco: R$ 49.02\n"
          ],
          "name": "stdout"
        }
      ]
    },
    {
      "cell_type": "markdown",
      "metadata": {
        "id": "2Uu84Uqtkunt"
      },
      "source": [
        "## #03 - Você está na flor da idade?\n",
        "\n",
        "*  Defina uma variável para o valor do ano do nascimento;\n",
        "*  Defina uma variável para o valor do ano atual;\n",
        "*  Defina uma variável que calcula o valor final da idade da pessoa;\n",
        "*  Exiba uma mensagem final dizendo a idade da pessoa e a mensagem \"Você está na flor da idade\"."
      ]
    },
    {
      "cell_type": "code",
      "metadata": {
        "id": "kyXxJV3nk14Z",
        "colab": {
          "base_uri": "https://localhost:8080/"
        },
        "outputId": "5a792ed0-cce9-4996-9d76-1b19749333be"
      },
      "source": [
        "birthdate = int(input(\"Ano de Nascimento: \"))\n",
        "year = 2021\n",
        "age = int(year - birthdate)\n",
        "\n",
        "print(f'Você tem {age} e está na flor da idade')"
      ],
      "execution_count": null,
      "outputs": [
        {
          "output_type": "stream",
          "text": [
            "Ano de Nascimento: 2005\n",
            "Você tem 16 e está na flor da idade\n"
          ],
          "name": "stdout"
        }
      ]
    },
    {
      "cell_type": "markdown",
      "metadata": {
        "id": "w1T7s2q0p-pt"
      },
      "source": [
        "# Mini projetos"
      ]
    },
    {
      "cell_type": "markdown",
      "metadata": {
        "id": "meUw7PTwqC-Y"
      },
      "source": [
        "## #01 - Conversor de moedas\n",
        "\n",
        "Crie um programa que solicite um um valor em real ao usuário e converta esse valor, para:\n",
        "\n",
        "- DOLAR,\n",
        "- EURO,\n",
        "- LIBRA ESTERLINA,\n",
        "- DÓLAR CANADENSE,\n",
        "- PESO ARGENTINO,\n",
        "- PESO CHILENO.\n",
        "\n",
        "Para esse exercício você precisará realizar uma pesquisa para saber a cotação de cada moeda em real. Mostrar o resultado no formato $ XXXX.XX"
      ]
    },
    {
      "cell_type": "code",
      "metadata": {
        "id": "q481snSClrXe"
      },
      "source": [
        "real = float(input('Valor em real: R$ '))\n",
        "dolarEua = float(5.06)\n",
        "euro = float(6.13)\n",
        "libra = float(7.13)\n",
        "dolarCanada = float(4.16)\n",
        "pesoArgentino = float(0.53)\n",
        "pesoChileno = float(0.007)\n",
        "\n",
        "print(f'Dolar americanos: $ {dolarEua / real:.2f}')\n",
        "print(f'Euro: $ {euro / real:.2f}')\n",
        "print(f'Libra: $ {libra / real:.2f}')\n",
        "print(f'Dolar canadense: $ {dolarCanada / real:.2f}')\n",
        "print(f'Peso argentino: $ {pesoArgentino / real:.2f}')\n",
        "print(f'Peso chileno: $ {pesoChileno / real:.2f}')"
      ],
      "execution_count": null,
      "outputs": []
    },
    {
      "cell_type": "markdown",
      "metadata": {
        "id": "KK9PIcJ4qIF9"
      },
      "source": [
        "## #02 - Calculadora de aumento de aluguel\n",
        "\n",
        "Vamos construir um programa que irá calcular o aumento anual do seu aluguel em duas partes:\n",
        "\n",
        "### Parte 1\n",
        "A sua calculadora vai receber o `valor do aluguel` e calcular o aumento baseado no `IGPM de 31%`. A calculadora deve apresentar o aluguel reajustado no formato `R$ XXXX.XX`\n",
        "\n",
        "**Exemplo:**\n",
        "```\n",
        "Valor do aluguel = 1000\n",
        "Valor do aluguel reajustado = R$ 1310,00"
      ]
    },
    {
      "cell_type": "code",
      "metadata": {
        "id": "VdjHa9Csl0Lg",
        "colab": {
          "base_uri": "https://localhost:8080/"
        },
        "outputId": "16b22918-817f-42a9-c550-ab6f38a4e65f"
      },
      "source": [
        "rent = float(input('Valor do aluguel: R$ '))\n",
        "rentAmount = rent * 1.31\n",
        "\n",
        "print(f'\\n\\nValor do aluguel = R$ {rent:.2f}\\nValor do aluguel reajustado = R$ {rentAmount:.2f}')"
      ],
      "execution_count": null,
      "outputs": [
        {
          "output_type": "stream",
          "text": [
            "Valor do aluguel: R$ 1000\n",
            "Valor do aluguel = R$ 1000.00\n",
            "Valor do aluguel reajustado = R$ 1310.00\n"
          ],
          "name": "stdout"
        }
      ]
    },
    {
      "cell_type": "markdown",
      "metadata": {
        "id": "lKTwnuNMl8rP"
      },
      "source": [
        "### Parte 2\n",
        "Agora, altere sua calculadora para receber além do `valor do aluguel`, o percentual do reajuste no formato `XX%`.  \n",
        "\n",
        "**Dica:** Descubra uma forma de transformar o percentual recebido em um número para efetuar o cálculo.\n",
        "\n",
        "**Exemplo:**\n",
        "```\n",
        "Valor do aluguel = 1000\n",
        "Percentual do reajuste = 31%\n",
        "Valor do aluguel reajustado = R% 1310,00\n",
        "```"
      ]
    },
    {
      "cell_type": "code",
      "metadata": {
        "id": "aw2Zk_9KmA85",
        "colab": {
          "base_uri": "https://localhost:8080/"
        },
        "outputId": "b6820888-adc2-460a-edcb-f1c627562954"
      },
      "source": [
        "rent = float(input('Valor do aluguel: R$ '))\n",
        "igpm = int(input('Valor do IGPM: '))\n",
        "rentAmount = (igpm / 100)+1\n",
        "\n",
        "print(f'\\n\\nValor do aluguel: R$ {rent:.2f}')\n",
        "print(f'Percentual do reajuste: {igpm}%')\n",
        "print(f'Valor do aluguel reajustado: R$ {rent * rentAmount:.2f}')"
      ],
      "execution_count": null,
      "outputs": [
        {
          "output_type": "stream",
          "text": [
            "Valor do aluguel: R$ 1000\n",
            "Valor do IGPM: 30\n",
            "\n",
            "\n",
            "Valor do aluguel: R$ 1000.00\n",
            "Percentual do reajuste: 30%\n",
            "Valor do aluguel reajustado: R$ 1300.00\n"
          ],
          "name": "stdout"
        }
      ]
    }
  ]
}