{
  "nbformat": 4,
  "nbformat_minor": 0,
  "metadata": {
    "colab": {
      "name": "Aula_05_Laco_For.ipynb",
      "provenance": [],
      "collapsed_sections": [],
      "include_colab_link": true
    },
    "kernelspec": {
      "name": "python3",
      "display_name": "Python 3"
    },
    "language_info": {
      "name": "python"
    }
  },
  "cells": [
    {
      "cell_type": "markdown",
      "metadata": {
        "id": "view-in-github",
        "colab_type": "text"
      },
      "source": [
        "<a href=\"https://colab.research.google.com/github/gabrielrochas/blueedtech-lessons/blob/main/aulas/aula_05/Aula_05_Laco_For.ipynb\" target=\"_parent\"><img src=\"https://colab.research.google.com/assets/colab-badge.svg\" alt=\"Open In Colab\"/></a>"
      ]
    },
    {
      "cell_type": "markdown",
      "metadata": {
        "id": "bvC7eMZckKmP"
      },
      "source": [
        "# Estrutura de repetição FOR"
      ]
    },
    {
      "cell_type": "markdown",
      "metadata": {
        "id": "QvYfJkBUjG4C"
      },
      "source": [
        "**Até agora a gente aprendeu a desviar das coisas, agora vmaos aprender a repetir elas!**\n",
        "\n",
        "Imagina que nós queremos escrever na telá olá 5 vezes, nós teriamos que colcoar:"
      ]
    },
    {
      "cell_type": "code",
      "metadata": {
        "id": "vukYj3iWdYPP"
      },
      "source": [
        "print('Olá')\n",
        "print('Olá')\n",
        "print('Olá')\n",
        "print('Olá')\n",
        "print('Olá')"
      ],
      "execution_count": null,
      "outputs": []
    },
    {
      "cell_type": "markdown",
      "metadata": {
        "id": "fI4K1rr6jUor"
      },
      "source": [
        "Mas e se eu quiser escrever isso 500 vezes? Seria inviável, por isso temos o laço for, podemos substituir o código de cima por:"
      ]
    },
    {
      "cell_type": "code",
      "metadata": {
        "id": "ZcN9pFZNjXA3"
      },
      "source": [
        "for c in range(1, 6): # De 1 a 6 porque o range ignora o ultimo número.\n",
        "   print('Olá')\n",
        "print('Fim')"
      ],
      "execution_count": null,
      "outputs": []
    },
    {
      "cell_type": "markdown",
      "metadata": {
        "id": "3O6AkdXKjXmT"
      },
      "source": [
        "O laço for é chamado de laço com variável de controle, caso acima, o c é a variável de controle.\n",
        "\n",
        "Outro exemplo, pra entendermos variáveis de controle:"
      ]
    },
    {
      "cell_type": "code",
      "metadata": {
        "id": "JXUWt0-8jaOx"
      },
      "source": [
        "for c in range(0, 5):\n",
        "   print(c) # Vai mostrar uma contagem crescente"
      ],
      "execution_count": null,
      "outputs": []
    },
    {
      "cell_type": "markdown",
      "metadata": {
        "id": "_itgYbIVjcJL"
      },
      "source": [
        "Para contagens descrescentes utilize:"
      ]
    },
    {
      "cell_type": "code",
      "metadata": {
        "id": "SQ2RGDWRjhlE"
      },
      "source": [
        "for c in range(5, 0, -1): # começa no 5, tira 1 (-1), até o 1 (pois o útimo é ignorado)\n",
        "   print(c)"
      ],
      "execution_count": null,
      "outputs": []
    },
    {
      "cell_type": "markdown",
      "metadata": {
        "id": "xxpKGg2Jji_B"
      },
      "source": [
        "Para pular de dois em dois:"
      ]
    },
    {
      "cell_type": "code",
      "metadata": {
        "id": "4eeSTayRjlUs"
      },
      "source": [
        "for c in range(0, 7, 2): # começa no 0, pula de 2 em 2, até o 6 (pois o útimo é ignorado)\n",
        "   print(c)"
      ],
      "execution_count": null,
      "outputs": []
    },
    {
      "cell_type": "markdown",
      "metadata": {
        "id": "h0WwKHjQjnRX"
      },
      "source": [
        "Vamos a mais um exemplo:"
      ]
    },
    {
      "cell_type": "code",
      "metadata": {
        "id": "jnoyrZ31jmsH"
      },
      "source": [
        "n = int(input('Digite um número: '))\n",
        "\n",
        "for c in range(0, n+1): # Li o n e utilizei dentro do range para contagem.\n",
        "   print(c)\n",
        "print('Fim')"
      ],
      "execution_count": null,
      "outputs": []
    },
    {
      "cell_type": "markdown",
      "metadata": {
        "id": "gbeyuLZPjtmZ"
      },
      "source": [
        "Agora vamos receber o incio do range, o fim e o passo:"
      ]
    },
    {
      "cell_type": "code",
      "metadata": {
        "id": "01g6XP9vjxyv"
      },
      "source": [
        "i = int(input('Digite o inicio: '))\n",
        "f = int(input('Digite o fim: '))\n",
        "p = int(input('Digite o passo: '))\n",
        "\n",
        "\n",
        "for c in range(i, f+1, p): \n",
        "   print(c)\n",
        "print('Fim')"
      ],
      "execution_count": null,
      "outputs": []
    },
    {
      "cell_type": "markdown",
      "metadata": {
        "id": "XU5Gyzxbj0BN"
      },
      "source": [
        "Vamos pedir varios valores no for, através do input e somar todos eles:"
      ]
    },
    {
      "cell_type": "code",
      "metadata": {
        "id": "JM7xPjg1j0vb"
      },
      "source": [
        "s = 0\n",
        "for c in range(0, 4):\n",
        "   n = int(input('Digite um número: '))\n",
        "   s += n\n",
        "print(f'A soma de todos os numeros é {s}')"
      ],
      "execution_count": null,
      "outputs": []
    },
    {
      "cell_type": "markdown",
      "metadata": {
        "id": "n15n2pU_j2-w"
      },
      "source": [
        "O in pode ser usado para Strings"
      ]
    },
    {
      "cell_type": "code",
      "metadata": {
        "id": "eeDwmKkdj9Rd"
      },
      "source": [
        "for letra in 'Thiago Veiga Lima':\n",
        "   if letra == 'e':\n",
        "      print(f'Achei a letra {letra}')\n",
        "print('Fim')"
      ],
      "execution_count": null,
      "outputs": []
    },
    {
      "cell_type": "markdown",
      "metadata": {
        "id": "5OBkpYL2j93v"
      },
      "source": [
        "## EXERCÍCIOS"
      ]
    },
    {
      "cell_type": "markdown",
      "metadata": {
        "id": "5YRVAt-RkbLo"
      },
      "source": [
        "01 - Faça um programa que mostre na tela uma contagem regressiva para o estouro de fogos de artifício, indo de 10 até 0, com uma pausa de 1 segundo entre eles."
      ]
    },
    {
      "cell_type": "code",
      "metadata": {
        "id": "5fGkh8FPkHJF"
      },
      "source": [
        "from time import sleep\n",
        "for c in range(10,0,-1):\n",
        "  print(c)\n",
        "  sleep(1)\n",
        "print('♪'*15)\n",
        "print('Feliz Ano Novor')"
      ],
      "execution_count": null,
      "outputs": []
    },
    {
      "cell_type": "markdown",
      "metadata": {
        "id": "RPyky00yke8P"
      },
      "source": [
        "\n",
        "\n",
        "```\n",
        "# Isto está formatado como código\n",
        "```\n",
        "\n",
        "02 - Dado uma string com uma frase informada pelo usuário (incluindo espaços em branco), conte quantas vezes aparece as vogais a,e,i,o,u"
      ]
    },
    {
      "cell_type": "code",
      "metadata": {
        "id": "t8Vw_nW3ki2s",
        "colab": {
          "base_uri": "https://localhost:8080/"
        },
        "outputId": "e55ef431-47ba-4cf0-c533-4aefdb0c02de"
      },
      "source": [
        "frase = input('Escreva uma frase: ').lower() # Frase convertida para minúsculo para não gerar erros.\n",
        "# 'Varre' a frase inserida pelo usuário no input\n",
        "for c in frase: \n",
        "  a = frase.count('a') # conta letra 'a'\n",
        "  e = frase.count('e') # conta letra 'e'\n",
        "  i = frase.count('i') # conta letra 'i'\n",
        "  o = frase.count('o') # conta letra 'o'\n",
        "  u = frase.count('u') # conta letra 'u'\n",
        "\n",
        "# Printa quantas vezes cada vogal foi encotrada\n",
        "print(f'Letra A encontrada {a}x')\n",
        "print(f'Letra E encontrada {e}x')\n",
        "print(f'Letra I encontrada {i}x')\n",
        "print(f'Letra O encontrada {o}x')\n",
        "print(f'Letra U encontrada {u}x')"
      ],
      "execution_count": null,
      "outputs": [
        {
          "output_type": "stream",
          "text": [
            "Escreva uma frase: Blaladlkfj feousdkfj\n",
            "Letra A encontrada 2x\n",
            "Letra E encontrada 1x\n",
            "Letra I encontrada 0x\n",
            "Letra O encontrada 1x\n",
            "Letra U encontrada 1x\n"
          ],
          "name": "stdout"
        }
      ]
    },
    {
      "cell_type": "markdown",
      "metadata": {
        "id": "3PKv_p1EkjJ-"
      },
      "source": [
        "**03** - Desenvolva um código que pergunte um número n para o usuário e exiba todos seus divisores"
      ]
    },
    {
      "cell_type": "code",
      "metadata": {
        "id": "U9_SKeqfknWF",
        "colab": {
          "base_uri": "https://localhost:8080/"
        },
        "outputId": "33412632-c3ef-4773-c199-71ab8c87410c"
      },
      "source": [
        "# Pergunta um número para o usuário\n",
        "n = float(input(\"Digite um número: \"))\n",
        "n = int(n) # Converte n para int para evitar erros de execução\n",
        "\n",
        "# Encontra os divisores do número informado pelo usuário\n",
        "for c in range(1,n+1): # Mais 1, pois todo número é divisível por ele mesmo\n",
        "  if n % c == 0:\n",
        "    print(c,\" é divisor de \", n)"
      ],
      "execution_count": null,
      "outputs": [
        {
          "output_type": "stream",
          "text": [
            "Digite um número: 50\n",
            "1  é divisor de  50\n",
            "2  é divisor de  50\n",
            "5  é divisor de  50\n",
            "10  é divisor de  50\n",
            "25  é divisor de  50\n",
            "50  é divisor de  50\n"
          ],
          "name": "stdout"
        }
      ]
    },
    {
      "cell_type": "markdown",
      "metadata": {
        "id": "GgInr5G5koDC"
      },
      "source": [
        "04 - Escreva um programa onde o usuário digita uma frase e essa frase retorna sem nenhuma vogal."
      ]
    },
    {
      "cell_type": "code",
      "metadata": {
        "id": "6es38m-VkqeW",
        "colab": {
          "base_uri": "https://localhost:8080/"
        },
        "outputId": "865cb58e-7845-4bdd-bec2-369a7525b255"
      },
      "source": [
        "frase = input(\"Digite uma frase: \").lower()\n",
        "novaFrase = frase\n",
        "vogais = ('a', 'e', 'i', 'o', 'u')\n",
        "for vogal in frase:\n",
        "    if not vogal in vogais:\n",
        "        novaFrase = novaFrase.replace(vogal,\"p\")\n",
        "print(novaFrase)"
      ],
      "execution_count": null,
      "outputs": [
        {
          "output_type": "stream",
          "text": [
            "Digite uma frase: Araraguara\n",
            "apapapuapa\n"
          ],
          "name": "stdout"
        }
      ]
    }
  ]
}